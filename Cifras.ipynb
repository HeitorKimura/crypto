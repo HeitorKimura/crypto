{
 "cells": [
  {
   "cell_type": "code",
   "execution_count": 71,
   "metadata": {},
   "outputs": [],
   "source": [
    "import pandas as pd\n",
    "import numpy as np\n",
    "import time"
   ]
  },
  {
   "cell_type": "code",
   "execution_count": 182,
   "metadata": {},
   "outputs": [],
   "source": [
    "def shuffle(word1, word2=\"Lucky\"): #estável\n",
    "    np.random.seed(int(time.strftime(\"%S\"))**2)\n",
    "    n=len(word1)\n",
    "    word1=[x for x in word1]\n",
    "    word2=[x for x in word2]\n",
    "    np.random.shuffle(word1)\n",
    "    np.random.shuffle(word2)\n",
    "    comb=[]\n",
    "    for i in range(n):\n",
    "        try:\n",
    "            comb.append(word1[i])\n",
    "            comb.append(word2[i])\n",
    "        except:\n",
    "            comb.pop()\n",
    "            comb.append(word1[i])\n",
    "    \n",
    "    comb = \"\".join(comb)\n",
    "    return comb\n",
    "\n",
    "def caesar(sntnc, key): #estável\n",
    "    alph = [chr(i) for i in range(ord('a'),ord('z')+1)]\n",
    "    key = key.lower()\n",
    "    key2 = [key[x] for x in range(len(key)) if (key[x] not in key[:x]) and (key[x] in alph)]\n",
    "    alph2 = key2 + [a for a in alph if a not in key2]\n",
    "    corresp = dict(zip(alph, alph2))\n",
    "    sntnc = sntnc.lower()\n",
    "    sntnc = \"\".join([corresp.get(ch, ch) for ch in sntnc])\n",
    "    return sntnc\n",
    "\n",
    "def anticaesar(sntnc, key): #estável\n",
    "    alph = [chr(i) for i in range(ord('a'),ord('z')+1)]\n",
    "    key = key.lower()\n",
    "    key2 = [key[x] for x in range(len(key)) if (key[x] not in key[:x]) and (key[x] in alph)]\n",
    "    alph2 = key2 + [a for a in alph if a not in key2]\n",
    "    corresp = dict(zip(alph2, alph))\n",
    "    sntnc = sntnc.lower()\n",
    "    sntnc = \"\".join([corresp.get(ch, ch) for ch in sntnc])\n",
    "    return sntnc"
   ]
  },
  {
   "cell_type": "code",
   "execution_count": 166,
   "metadata": {},
   "outputs": [
    {
     "data": {
      "text/plain": [
       "'ratKHmeuiior'"
      ]
     },
     "execution_count": 166,
     "metadata": {},
     "output_type": "execute_result"
    }
   ],
   "source": [
    "shuffle(\"Heitor\", \"Kimura\")"
   ]
  },
  {
   "cell_type": "code",
   "execution_count": 185,
   "metadata": {},
   "outputs": [
    {
     "data": {
      "text/plain": [
       "'as vezs, ter coragem e saber qual e o seu maior medo'"
      ]
     },
     "execution_count": 185,
     "metadata": {},
     "output_type": "execute_result"
    }
   ],
   "source": [
    "anticaesar('ip urzp, qrm vjmiarg r pinrm ltif r j prt gibjm grej', \"inversao\")"
   ]
  }
 ],
 "metadata": {
  "kernelspec": {
   "display_name": "Python 3",
   "language": "python",
   "name": "python3"
  },
  "language_info": {
   "codemirror_mode": {
    "name": "ipython",
    "version": 3
   },
   "file_extension": ".py",
   "mimetype": "text/x-python",
   "name": "python",
   "nbconvert_exporter": "python",
   "pygments_lexer": "ipython3",
   "version": "3.7.6"
  }
 },
 "nbformat": 4,
 "nbformat_minor": 2
}
